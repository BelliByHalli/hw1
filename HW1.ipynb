{
 "cells": [
  {
   "cell_type": "code",
   "execution_count": 2,
   "metadata": {},
   "outputs": [
    {
     "name": "stdout",
     "output_type": "stream",
     "text": [
      "es\n"
     ]
    }
   ],
   "source": [
    "word = 'test'  \n",
    "\n",
    "length = len(word)\n",
    "\n",
    "if length % 2 == 1:  \n",
    "    middle_index = length // 2\n",
    "    result = word[middle_index]\n",
    "else:  \n",
    "    middle_index1 = length // 2 - 1\n",
    "    middle_index2 = length // 2\n",
    "    result = word[middle_index1:middle_index2 + 1]\n",
    "\n",
    "print(result)"
   ]
  }
 ],
 "metadata": {
  "kernelspec": {
   "display_name": "Python 3",
   "language": "python",
   "name": "python3"
  },
  "language_info": {
   "codemirror_mode": {
    "name": "ipython",
    "version": 3
   },
   "file_extension": ".py",
   "mimetype": "text/x-python",
   "name": "python",
   "nbconvert_exporter": "python",
   "pygments_lexer": "ipython3",
   "version": "3.13.0"
  }
 },
 "nbformat": 4,
 "nbformat_minor": 2
}
